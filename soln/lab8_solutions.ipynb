{
  "cells": [
    {
      "cell_type": "markdown",
      "source": [
        "# DATA 301 Lab 8: SQL DDL\n",
        "\n",
        "## Objectives\n",
        "\n",
        "1. Connect to a Sqlite database using Python\n",
        "1. Write SQL DDL commands for CREATE TABLE, INSERT, UPDATE, and DELETE.\n",
        "1. Query and visualize data in a database"
      ],
      "metadata": {}
    },
    {
      "cell_type": "markdown",
      "source": [
        "## Getting Started\n",
        "\n",
        "1. Make sure that you have python packages `pandas` and `matplotlib` installed.\n",
        "2. Download the db file from [here](https://github.com/firasm/bits/blob/master/tpch.db)"
      ],
      "metadata": {}
    },
    {
      "cell_type": "code",
      "source": [
        "!pip install ipython-sql pandas matplotlib"
      ],
      "outputs": [
        {
          "output_type": "stream",
          "name": "stdout",
          "text": [
            "Requirement already satisfied: ipython-sql in /home/brandongk/miniconda3/lib/python3.7/site-packages (0.4.0)\n",
            "Requirement already satisfied: pandas in /home/brandongk/miniconda3/lib/python3.7/site-packages (1.1.3)\n",
            "Requirement already satisfied: matplotlib in /home/brandongk/miniconda3/lib/python3.7/site-packages (3.3.2)\n",
            "Requirement already satisfied: prettytable<1 in /home/brandongk/miniconda3/lib/python3.7/site-packages (from ipython-sql) (0.7.2)\n",
            "Requirement already satisfied: ipython>=1.0 in /home/brandongk/miniconda3/lib/python3.7/site-packages (from ipython-sql) (7.18.1)\n",
            "Requirement already satisfied: six in /home/brandongk/miniconda3/lib/python3.7/site-packages (from ipython-sql) (1.15.0)\n",
            "Requirement already satisfied: ipython-genutils>=0.1.0 in /home/brandongk/miniconda3/lib/python3.7/site-packages (from ipython-sql) (0.2.0)\n",
            "Requirement already satisfied: sqlalchemy>=0.6.7 in /home/brandongk/miniconda3/lib/python3.7/site-packages (from ipython-sql) (1.3.19)\n",
            "Requirement already satisfied: sqlparse in /home/brandongk/miniconda3/lib/python3.7/site-packages (from ipython-sql) (0.3.1)\n",
            "Requirement already satisfied: numpy>=1.15.4 in /home/brandongk/miniconda3/lib/python3.7/site-packages (from pandas) (1.19.2)\n",
            "Requirement already satisfied: pytz>=2017.2 in /home/brandongk/miniconda3/lib/python3.7/site-packages (from pandas) (2020.1)\n",
            "Requirement already satisfied: python-dateutil>=2.7.3 in /home/brandongk/miniconda3/lib/python3.7/site-packages (from pandas) (2.8.1)\n",
            "Requirement already satisfied: pillow>=6.2.0 in /home/brandongk/miniconda3/lib/python3.7/site-packages (from matplotlib) (8.0.0)\n",
            "Requirement already satisfied: pyparsing!=2.0.4,!=2.1.2,!=2.1.6,>=2.0.3 in /home/brandongk/miniconda3/lib/python3.7/site-packages (from matplotlib) (2.4.7)\n",
            "Requirement already satisfied: cycler>=0.10 in /home/brandongk/miniconda3/lib/python3.7/site-packages (from matplotlib) (0.10.0)\n",
            "Requirement already satisfied: certifi>=2020.06.20 in /home/brandongk/miniconda3/lib/python3.7/site-packages (from matplotlib) (2020.6.20)\n",
            "Requirement already satisfied: kiwisolver>=1.0.1 in /home/brandongk/miniconda3/lib/python3.7/site-packages (from matplotlib) (1.2.0)\n",
            "Requirement already satisfied: setuptools>=18.5 in /home/brandongk/miniconda3/lib/python3.7/site-packages (from ipython>=1.0->ipython-sql) (50.3.0.post20201006)\n",
            "Requirement already satisfied: pickleshare in /home/brandongk/miniconda3/lib/python3.7/site-packages (from ipython>=1.0->ipython-sql) (0.7.5)\n",
            "Requirement already satisfied: prompt-toolkit!=3.0.0,!=3.0.1,<3.1.0,>=2.0.0 in /home/brandongk/miniconda3/lib/python3.7/site-packages (from ipython>=1.0->ipython-sql) (3.0.8)\n",
            "Requirement already satisfied: pexpect>4.3; sys_platform != \"win32\" in /home/brandongk/miniconda3/lib/python3.7/site-packages (from ipython>=1.0->ipython-sql) (4.8.0)\n",
            "Requirement already satisfied: decorator in /home/brandongk/miniconda3/lib/python3.7/site-packages (from ipython>=1.0->ipython-sql) (4.4.2)\n",
            "Requirement already satisfied: backcall in /home/brandongk/miniconda3/lib/python3.7/site-packages (from ipython>=1.0->ipython-sql) (0.2.0)\n",
            "Requirement already satisfied: jedi>=0.10 in /home/brandongk/miniconda3/lib/python3.7/site-packages (from ipython>=1.0->ipython-sql) (0.17.2)\n",
            "Requirement already satisfied: traitlets>=4.2 in /home/brandongk/miniconda3/lib/python3.7/site-packages (from ipython>=1.0->ipython-sql) (5.0.5)\n",
            "Requirement already satisfied: pygments in /home/brandongk/miniconda3/lib/python3.7/site-packages (from ipython>=1.0->ipython-sql) (2.7.2)\n",
            "Requirement already satisfied: wcwidth in /home/brandongk/miniconda3/lib/python3.7/site-packages (from prompt-toolkit!=3.0.0,!=3.0.1,<3.1.0,>=2.0.0->ipython>=1.0->ipython-sql) (0.2.5)\n",
            "Requirement already satisfied: ptyprocess>=0.5 in /home/brandongk/miniconda3/lib/python3.7/site-packages (from pexpect>4.3; sys_platform != \"win32\"->ipython>=1.0->ipython-sql) (0.6.0)\n",
            "Requirement already satisfied: parso<0.8.0,>=0.7.0 in /home/brandongk/miniconda3/lib/python3.7/site-packages (from jedi>=0.10->ipython>=1.0->ipython-sql) (0.7.0)\n"
          ]
        }
      ],
      "execution_count": 1,
      "metadata": {}
    },
    {
      "cell_type": "code",
      "source": [
        "%load_ext sql"
      ],
      "outputs": [],
      "execution_count": 2,
      "metadata": {}
    },
    {
      "cell_type": "markdown",
      "source": [
        "### Configuration (1 mark)\n",
        "\n",
        "1. Connect to a sqlite database `data540` using the cell below.\n"
      ],
      "metadata": {}
    },
    {
      "cell_type": "code",
      "source": [
        "%sql sqlite:///data540.db"
      ],
      "outputs": [],
      "execution_count": 3,
      "metadata": {}
    },
    {
      "cell_type": "code",
      "source": [
        "%sql PRAGMA foreign_keys = ON;"
      ],
      "outputs": [
        {
          "output_type": "stream",
          "name": "stdout",
          "text": [
            " * sqlite:///data540.db\n",
            "Done.\n"
          ]
        },
        {
          "output_type": "execute_result",
          "execution_count": 36,
          "data": {
            "text/plain": "[]"
          },
          "metadata": {}
        }
      ],
      "execution_count": 36,
      "metadata": {}
    },
    {
      "cell_type": "markdown",
      "source": [
        "You can list all of the tables in your database using the query below.  Initially, the database should be empty."
      ],
      "metadata": {}
    },
    {
      "cell_type": "code",
      "source": [
        "%%sql\n",
        "\n",
        "SELECT name FROM sqlite_master \n",
        "WHERE type IN ('table','view') \n",
        "AND name NOT LIKE 'sqlite_%'\n",
        "ORDER BY 1;"
      ],
      "outputs": [
        {
          "output_type": "stream",
          "name": "stdout",
          "text": [
            " * sqlite:///data540.db\n",
            "Done.\n"
          ]
        },
        {
          "output_type": "execute_result",
          "execution_count": 35,
          "data": {
            "text/html": "<table>\n    <tr>\n        <th>name</th>\n    </tr>\n</table>",
            "text/plain": "[]"
          },
          "metadata": {}
        }
      ],
      "execution_count": 35,
      "metadata": {}
    },
    {
      "cell_type": "markdown",
      "source": [
        "Make sure to drop any existing tables to clean the schema before running the lab."
      ],
      "metadata": {}
    },
    {
      "cell_type": "code",
      "source": [
        "%%sql\n",
        "\n",
        "DROP TABLE IF EXISTS PlaySong;\n",
        "DROP TABLE IF EXISTS Song;\n",
        "DROP TABLE IF EXISTS Person;\n",
        "DROP TABLE IF EXISTS Artist;\n",
        "DROP TABLE IF EXISTS RecordLabel;"
      ],
      "outputs": [
        {
          "output_type": "stream",
          "name": "stdout",
          "text": [
            " * sqlite:///data540.db\n",
            "Done.\n",
            "Done.\n",
            "Done.\n",
            "Done.\n",
            "Done.\n"
          ]
        },
        {
          "output_type": "execute_result",
          "execution_count": 34,
          "data": {
            "text/plain": "[]"
          },
          "metadata": {}
        }
      ],
      "execution_count": 34,
      "metadata": {}
    },
    {
      "cell_type": "markdown",
      "source": [
        "### Question 1 (10 marks)\n",
        "\n",
        "Write the SQL DDL to create the following database about music consisting of 5 tables: ``Artist``, ``RecordLabel``, ``Song``, ``Person``, and ``PlaySong``:"
      ],
      "metadata": {}
    },
    {
      "cell_type": "markdown",
      "source": [
        "1. A **RecordLabel** table where each record label has a **labelName** (string up to 20 characters), **countryCode** (exactly 3 characters), and a **revenue** capable of storing value up to $999,999,999.99. **(2 marks)**"
      ],
      "metadata": {}
    },
    {
      "cell_type": "code",
      "source": [
        "%%sql\n",
        "\n",
        "CREATE TABLE RecordLabel (\n",
        "    labelName   VARCHAR(20),\n",
        "    countryCode CHAR(3),\n",
        "    revenue     DECIMAL(11,2),\n",
        "    PRIMARY KEY (labelName)\n",
        ");"
      ],
      "outputs": [
        {
          "output_type": "stream",
          "name": "stdout",
          "text": [
            " * sqlite:///data540.db\n",
            "Done.\n"
          ]
        },
        {
          "output_type": "execute_result",
          "execution_count": 37,
          "data": {
            "text/plain": "[]"
          },
          "metadata": {}
        }
      ],
      "execution_count": 37,
      "metadata": {}
    },
    {
      "cell_type": "markdown",
      "source": [
        "2. An **Artist** table where each musical artist is identified by a field called **artistId** that is an integer. Other attributes include **artistName** (string up to 30 characters), **age** (integer), and **labelName** (string up to 20 characters). Create a foreign key as appropriate for **labelName**. Make foreign key set to null on delete and cascade on update. **(2 marks)**"
      ],
      "metadata": {}
    },
    {
      "cell_type": "code",
      "source": [
        "%%sql\n",
        "\n",
        "CREATE TABLE Artist (\n",
        "    artistId    int,\n",
        "    artistName  VARCHAR(30),\n",
        "    age         int,\n",
        "    labelName   VARCHAR(20),\n",
        "    PRIMARY KEY (artistId),\n",
        "    FOREIGN KEY (labelName) REFERENCES RecordLabel(labelName) ON DELETE SET NULL ON UPDATE CASCADE\n",
        ");"
      ],
      "outputs": [
        {
          "output_type": "stream",
          "name": "stdout",
          "text": [
            " * sqlite:///data540.db\n",
            "Done.\n"
          ]
        },
        {
          "output_type": "execute_result",
          "execution_count": 38,
          "data": {
            "text/plain": "[]"
          },
          "metadata": {}
        }
      ],
      "execution_count": 38,
      "metadata": {}
    },
    {
      "cell_type": "markdown",
      "source": [
        "3. A **Person** table with **personId** as key (integer), **firstname** (up to 15 characters), **lastname** (up to 20 characters), **totalPlays** (integer), and **balance** (capable of storing up to $99,999.99). **(2 marks)**"
      ],
      "metadata": {}
    },
    {
      "cell_type": "code",
      "source": [
        "%%sql\n",
        "\n",
        "CREATE TABLE Person (\n",
        "    personId    int,\n",
        "    firstName   VARCHAR(15),\n",
        "    lastName    VARCHAR(20),\n",
        "    totalPlays  int,\n",
        "    balance     DECIMAL(7,2),    \n",
        "    PRIMARY KEY (personId)\n",
        ");\n"
      ],
      "outputs": [
        {
          "output_type": "stream",
          "name": "stdout",
          "text": [
            " * sqlite:///data540.db\n",
            "Done.\n"
          ]
        },
        {
          "output_type": "execute_result",
          "execution_count": 39,
          "data": {
            "text/plain": "[]"
          },
          "metadata": {}
        }
      ],
      "execution_count": 39,
      "metadata": {}
    },
    {
      "cell_type": "markdown",
      "source": [
        "4. A **Song** table with two fields as the primary key: **artistId** (integer) and **songName** (up to 20 characters). Other fields include: **duration** (integer), **releaseDate** (should store date info), and **cost** (capable of storing up to $99.99).  Create an appropriate foreign key. Make foreign key cascade on delete and cascade on update. **(2 marks)**"
      ],
      "metadata": {}
    },
    {
      "cell_type": "code",
      "source": [
        "%%sql\n",
        "\n",
        "CREATE TABLE Song (\n",
        "    artistId    int,\n",
        "    songName    VARCHAR(20),\n",
        "    duration    int,\n",
        "    releaseDate DATE,\n",
        "    cost        DECIMAL(4,2),    \n",
        "    PRIMARY KEY (artistId, songName),\n",
        "    FOREIGN KEY (artistId) REFERENCES Artist(artistId) ON DELETE CASCADE ON UPDATE CASCADE\n",
        ");"
      ],
      "outputs": [
        {
          "output_type": "stream",
          "name": "stdout",
          "text": [
            " * sqlite:///data540.db\n",
            "Done.\n"
          ]
        },
        {
          "output_type": "execute_result",
          "execution_count": 40,
          "data": {
            "text/plain": "[]"
          },
          "metadata": {}
        }
      ],
      "execution_count": 40,
      "metadata": {}
    },
    {
      "cell_type": "markdown",
      "source": [
        "5. A **PlaySong** table that tracks whenever a person plays a song. Key fields: **personId** (integer), **artistId** (integer), **songName** (up to 20 characters), **playDate** (datetime). Other field: **cost** (capable of storing up to $99.99).  Create appropriate foreign keys. Make foreign keys cascade on delete and cascade on update. **(2 marks)**"
      ],
      "metadata": {}
    },
    {
      "cell_type": "code",
      "source": [
        "%%sql\n",
        "\n",
        "CREATE TABLE PlaySong (\n",
        "    personId     int,\n",
        "    artistId     int,\n",
        "    songName     VARCHAR(20),    \n",
        "    playDate     DATETIME,\n",
        "    cost         DECIMAL(4,2),    \n",
        "    PRIMARY KEY (personId, artistId, songName, playDate),\n",
        "    FOREIGN KEY (personId) REFERENCES Person(personId) ON DELETE CASCADE ON UPDATE CASCADE,\n",
        "    FOREIGN KEY (artistId,songName) REFERENCES Song(artistId,songName) ON DELETE CASCADE ON UPDATE CASCADE\n",
        ");\n"
      ],
      "outputs": [
        {
          "output_type": "stream",
          "name": "stdout",
          "text": [
            " * sqlite:///data540.db\n",
            "Done.\n"
          ]
        },
        {
          "output_type": "execute_result",
          "execution_count": 41,
          "data": {
            "text/plain": "[]"
          },
          "metadata": {}
        }
      ],
      "execution_count": 41,
      "metadata": {}
    },
    {
      "cell_type": "markdown",
      "source": [
        "### Question 2 (9 marks)\n",
        "\n",
        "Write the SQL DDL to perform the following modifications to the database created in Question 1."
      ],
      "metadata": {}
    },
    {
      "cell_type": "markdown",
      "source": [
        "##### Insert the following records into the RecordLabel table **(1 mark)**\n",
        "\n",
        "```\n",
        "(\"Republic Records\", \"USA\", '250456123.55')\n",
        "(\"Island Records\", \"CDN\", '100000000.00')\n",
        "```"
      ],
      "metadata": {}
    },
    {
      "cell_type": "code",
      "source": [
        "%%sql\n",
        "\n",
        "INSERT INTO RecordLabel VALUES(\"Republic Records\", \"USA\", '250456123.55');\n",
        "INSERT INTO RecordLabel VALUES(\"Island Records\", \"CDN\", '100000000.00');"
      ],
      "outputs": [
        {
          "output_type": "stream",
          "name": "stdout",
          "text": [
            " * sqlite:///data540.db\n",
            "1 rows affected.\n",
            "1 rows affected.\n"
          ]
        },
        {
          "output_type": "execute_result",
          "execution_count": 42,
          "data": {
            "text/plain": "[]"
          },
          "metadata": {}
        }
      ],
      "execution_count": 42,
      "metadata": {}
    },
    {
      "cell_type": "markdown",
      "source": [
        "##### Insert the following records into the Artist table **(1 mark)**\n",
        "\n",
        "```\n",
        "(1, \"Ariana Grande\", 25, \"Republic Records\")\n",
        "(2, \"Justin Bieber\", 24, \"Island Records\")\n",
        "(3, \"Amy Grant\", 48, \"Island Records\")\n",
        "```"
      ],
      "metadata": {}
    },
    {
      "cell_type": "code",
      "source": [
        "%%sql\n",
        "\n",
        "INSERT INTO Artist VALUES(1, \"Ariana Grande\", 25, \"Republic Records\");\n",
        "INSERT INTO Artist VALUES(2, \"Justin Bieber\", 24, \"Island Records\");\n",
        "INSERT INTO Artist VALUES(3, \"Amy Grant\", 48, \"Island Records\");"
      ],
      "outputs": [
        {
          "output_type": "stream",
          "name": "stdout",
          "text": [
            " * sqlite:///data540.db\n",
            "1 rows affected.\n",
            "1 rows affected.\n",
            "1 rows affected.\n"
          ]
        },
        {
          "output_type": "execute_result",
          "execution_count": 43,
          "data": {
            "text/plain": "[]"
          },
          "metadata": {}
        }
      ],
      "execution_count": 43,
      "metadata": {}
    },
    {
      "cell_type": "markdown",
      "source": [
        "##### Insert the following records into the Person table **(1 mark)**\n",
        "\n",
        "```\n",
        "(1, \"Sarah\", \"Smith\", 25, '254.00')\n",
        "(2, \"Fred\", \"Funk\", 62, '22.22')\n",
        "```"
      ],
      "metadata": {}
    },
    {
      "cell_type": "code",
      "source": [
        "%%sql\n",
        "\n",
        "INSERT INTO Person VALUES(1, \"Sarah\", \"Smith\", 25, '254.00');\n",
        "INSERT INTO Person VALUES(2, \"Fred\", \"Funk\", 62, '22.22');"
      ],
      "outputs": [
        {
          "output_type": "stream",
          "name": "stdout",
          "text": [
            " * sqlite:///data540.db\n",
            "1 rows affected.\n",
            "1 rows affected.\n"
          ]
        },
        {
          "output_type": "execute_result",
          "execution_count": 44,
          "data": {
            "text/plain": "[]"
          },
          "metadata": {}
        }
      ],
      "execution_count": 44,
      "metadata": {}
    },
    {
      "cell_type": "markdown",
      "source": [
        "##### Insert the following records into the Song table **(1 mark)**\n",
        "\n",
        "```\n",
        "(1, 'No Tears Left to Cry', 206, '2018-04-20', '1.99')\n",
        "(2, 'Despacito', 227, '2017-01-12', '0.99')\n",
        "```"
      ],
      "metadata": {}
    },
    {
      "cell_type": "code",
      "source": [
        "%%sql\n",
        "\n",
        "INSERT INTO Song VALUES(1, 'No Tears Left to Cry', 206, '2018-04-20', '1.99');\n",
        "INSERT INTO Song VALUES(2, 'Despacito', 227, '2017-01-12', '0.99');"
      ],
      "outputs": [
        {
          "output_type": "stream",
          "name": "stdout",
          "text": [
            " * sqlite:///data540.db\n",
            "1 rows affected.\n",
            "1 rows affected.\n"
          ]
        },
        {
          "output_type": "execute_result",
          "execution_count": 45,
          "data": {
            "text/plain": "[]"
          },
          "metadata": {}
        }
      ],
      "execution_count": 45,
      "metadata": {}
    },
    {
      "cell_type": "markdown",
      "source": [
        "##### Insert the following records into the PlaySong table **(1 mark)**\n",
        "\n",
        "```\n",
        "(1, 1, 'No Tears Left to Cry', '2018-10-01 10:00:00', '1.99')\n",
        "(1, 1, 'No Tears Left to Cry', '2018-10-01 10:13:30', '0.99')\n",
        "(2, 2, 'Despacito', '2018-10-05 23:15:00', '0.79')\n",
        "```"
      ],
      "metadata": {}
    },
    {
      "cell_type": "code",
      "source": [
        "%%sql\n",
        "\n",
        "INSERT INTO PlaySong VALUES(1, 1, 'No Tears Left to Cry', '2018-10-01 10:00:00', '1.99');\n",
        "INSERT INTO PlaySong VALUES(1, 1, 'No Tears Left to Cry', '2018-10-01 10:13:30', '0.99');\n",
        "INSERT INTO PlaySong VALUES(2, 2, 'Despacito', '2018-10-05 23:15:00', '0.79');"
      ],
      "outputs": [
        {
          "output_type": "stream",
          "name": "stdout",
          "text": [
            " * sqlite:///data540.db\n",
            "1 rows affected.\n",
            "1 rows affected.\n",
            "1 rows affected.\n"
          ]
        },
        {
          "output_type": "execute_result",
          "execution_count": 46,
          "data": {
            "text/plain": "[]"
          },
          "metadata": {}
        }
      ],
      "execution_count": 46,
      "metadata": {}
    },
    {
      "cell_type": "markdown",
      "source": [
        "#### Update\n",
        "\n",
        "Write the SQL DDL to perform the following modifications to the database created in Question 1."
      ],
      "metadata": {}
    },
    {
      "cell_type": "markdown",
      "source": [
        "1. Add $50 to Fred Funk's balance. **(1 mark)**"
      ],
      "metadata": {}
    },
    {
      "cell_type": "code",
      "source": [
        "%%sql\n",
        "\n",
        "UPDATE Person SET balance=balance+50 WHERE firstName = 'Fred' and lastName = 'Funk';"
      ],
      "outputs": [
        {
          "output_type": "stream",
          "name": "stdout",
          "text": [
            " * sqlite:///data540.db\n",
            "1 rows affected.\n"
          ]
        },
        {
          "output_type": "execute_result",
          "execution_count": 47,
          "data": {
            "text/plain": "[]"
          },
          "metadata": {}
        }
      ],
      "execution_count": 47,
      "metadata": {}
    },
    {
      "cell_type": "markdown",
      "source": [
        "2. Modify all play times for **Sarah Smith** (**personId=1**) to be 1 hour later. Note: To add an hour to a date use the syntax DATE_ADD(*yourDateField*, INTERVAL 1 HOUR). **(1 mark)**"
      ],
      "metadata": {}
    },
    {
      "cell_type": "code",
      "source": [
        "%%sql\n",
        "\n",
        "UPDATE PlaySong SET playDate = DATETIME(playDate, '+1 hour') WHERE personId = 1;"
      ],
      "outputs": [
        {
          "output_type": "stream",
          "name": "stdout",
          "text": [
            " * sqlite:///data540.db\n",
            "2 rows affected.\n"
          ]
        },
        {
          "output_type": "execute_result",
          "execution_count": 50,
          "data": {
            "text/plain": "[]"
          },
          "metadata": {}
        }
      ],
      "execution_count": 50,
      "metadata": {}
    },
    {
      "cell_type": "markdown",
      "source": [
        "#### Delete\n",
        "\n",
        "Write the SQL DDL to perform the following modifications to the database created in Question 1."
      ],
      "metadata": {}
    },
    {
      "cell_type": "markdown",
      "source": [
        "1. Delete any artist over 30. **(1 mark)**"
      ],
      "metadata": {}
    },
    {
      "cell_type": "code",
      "source": [
        "%%sql\n",
        "\n",
        "UPDATE PlaySong SET playDate = DATETIME(playDate, '+1 hour') WHERE personId = (SELECT personId from Person WHERE firstName = 'Sarah' and lastName = 'Smith');"
      ],
      "outputs": [
        {
          "output_type": "stream",
          "name": "stdout",
          "text": [
            " * sqlite:///data540.db\n",
            "2 rows affected.\n"
          ]
        },
        {
          "output_type": "execute_result",
          "execution_count": 53,
          "data": {
            "text/plain": "[]"
          },
          "metadata": {}
        }
      ],
      "execution_count": 53,
      "metadata": {}
    },
    {
      "cell_type": "markdown",
      "source": [
        "2. Delete all PlaySong records for **Justin Bieber**. **(1 mark)**\n",
        "\n",
        "Note: You do not have to use a subquery for this question but try if you can!"
      ],
      "metadata": {}
    },
    {
      "cell_type": "markdown",
      "source": [
        "### Question 3 (4 marks)\n"
      ],
      "metadata": {}
    },
    {
      "cell_type": "markdown",
      "source": [
        "Create a successful connection similar to that above for the `tpch` database. The cell will look like: `%sql mysql+mysqldb://<USERNAME>:<PASSWORD>@127.0.0.1/<DATABASE>`. **(1 mark)**"
      ],
      "metadata": {}
    },
    {
      "cell_type": "code",
      "source": [
        "%sql sqlite:///tpch.db"
      ],
      "outputs": [],
      "execution_count": 54,
      "metadata": {}
    },
    {
      "cell_type": "code",
      "source": [
        "%sql PRAGMA foreign_keys = ON;"
      ],
      "outputs": [
        {
          "output_type": "stream",
          "name": "stdout",
          "text": [
            "   sqlite:///data540.db\n",
            " * sqlite:///tpch.db\n",
            "Done.\n"
          ]
        },
        {
          "output_type": "execute_result",
          "execution_count": 55,
          "data": {
            "text/plain": "[]"
          },
          "metadata": {}
        }
      ],
      "execution_count": 55,
      "metadata": {}
    },
    {
      "cell_type": "markdown",
      "source": [
        "**Note:** Since you now have two database connections configured, it's best to explicitly select one in future queries with the username and database as shown below."
      ],
      "metadata": {}
    },
    {
      "cell_type": "code",
      "source": [
        "%%sql tpch@tpch\n",
        "\n",
        "select * from orders limit 5;"
      ],
      "outputs": [
        {
          "output_type": "stream",
          "name": "stdout",
          "text": [
            "Done.\n"
          ]
        },
        {
          "output_type": "execute_result",
          "execution_count": 56,
          "data": {
            "text/html": "<table>\n    <tr>\n        <th>o_orderkey</th>\n        <th>o_custkey</th>\n        <th>o_orderstatus</th>\n        <th>o_totalprice</th>\n        <th>o_orderdate</th>\n        <th>o_orderpriority</th>\n        <th>o_clerk</th>\n        <th>o_shippriority</th>\n        <th>o_comment</th>\n    </tr>\n    <tr>\n        <td>1</td>\n        <td>781</td>\n        <td>O</td>\n        <td>172799.49</td>\n        <td>2018-01-02</td>\n        <td>5-LOW</td>\n        <td>Clerk#000000951</td>\n        <td>0</td>\n        <td>A0xCm5ARNL mxjChn2kC64xA4L6zBg2O5jhg M42izyPO  QlymN1ky5kmSiSgBAQA</td>\n    </tr>\n    <tr>\n        <td>2</td>\n        <td>1234</td>\n        <td>O</td>\n        <td>41048.98</td>\n        <td>2018-12-01</td>\n        <td>1-URGENT</td>\n        <td>Clerk#000000880</td>\n        <td>0</td>\n        <td>5PRxL1nM7xhQNzP2hnjhy1zz ykhg4P2A MMg5Px3OCN 0B0iyCRgiC2</td>\n    </tr>\n    <tr>\n        <td>3</td>\n        <td>445</td>\n        <td>F</td>\n        <td>250870.73</td>\n        <td>2015-10-14</td>\n        <td>5-LOW</td>\n        <td>Clerk#000000955</td>\n        <td>0</td>\n        <td>nm0kygQBnw7RS3AAA4k</td>\n    </tr>\n    <tr>\n        <td>4</td>\n        <td>557</td>\n        <td>O</td>\n        <td>6705.3</td>\n        <td>2017-10-11</td>\n        <td>5-LOW</td>\n        <td>Clerk#000000124</td>\n        <td>0</td>\n        <td>CP42CySQlz64n3mCyjm17 4B0CL L5772m4k2Ai4h1nPySwSmNyCl4jOAOx5y4Rjx36nhO1x2x4Qw</td>\n    </tr>\n    <tr>\n        <td>5</td>\n        <td>392</td>\n        <td>F</td>\n        <td>120227.38</td>\n        <td>2016-07-30</td>\n        <td>5-LOW</td>\n        <td>Clerk#000000925</td>\n        <td>0</td>\n        <td> 3PNC7zMP534MSizgy34Bxj62l0C7n6PBk7</td>\n    </tr>\n</table>",
            "text/plain": "[(1, 781, 'O', 172799.49, '2018-01-02', '5-LOW', 'Clerk#000000951', 0, 'A0xCm5ARNL mxjChn2kC64xA4L6zBg2O5jhg M42izyPO  QlymN1ky5kmSiSgBAQA'),\n (2, 1234, 'O', 41048.98, '2018-12-01', '1-URGENT', 'Clerk#000000880', 0, '5PRxL1nM7xhQNzP2hnjhy1zz ykhg4P2A MMg5Px3OCN 0B0iyCRgiC2'),\n (3, 445, 'F', 250870.73, '2015-10-14', '5-LOW', 'Clerk#000000955', 0, 'nm0kygQBnw7RS3AAA4k'),\n (4, 557, 'O', 6705.3, '2017-10-11', '5-LOW', 'Clerk#000000124', 0, 'CP42CySQlz64n3mCyjm17 4B0CL L5772m4k2Ai4h1nPySwSmNyCl4jOAOx5y4Rjx36nhO1x2x4Qw'),\n (5, 392, 'F', 120227.38, '2016-07-30', '5-LOW', 'Clerk#000000925', 0, ' 3PNC7zMP534MSizgy34Bxj62l0C7n6PBk7')]"
          },
          "metadata": {}
        }
      ],
      "execution_count": 56,
      "metadata": {}
    },
    {
      "cell_type": "markdown",
      "source": [
        "**Note:** you can [assign](https://github.com/catherinedevlin/ipython-sql#assignment) query results in Jupyter with the syntax `%%sql works << SELECT ... `"
      ],
      "metadata": {}
    },
    {
      "cell_type": "code",
      "source": [
        "%%sql tpch@tpch order <<\n",
        "select * from orders;"
      ],
      "outputs": [
        {
          "output_type": "stream",
          "name": "stdout",
          "text": [
            "Done.\n",
            "Returning data to local variable order\n"
          ]
        }
      ],
      "execution_count": 57,
      "metadata": {}
    },
    {
      "cell_type": "markdown",
      "source": [
        "**Note:** you can convert results in a Pandas DataFrame by calling the .DataFrame() method on the results object."
      ],
      "metadata": {}
    },
    {
      "cell_type": "code",
      "source": [
        "df = order.DataFrame()\n",
        "df[:5]"
      ],
      "outputs": [
        {
          "output_type": "execute_result",
          "execution_count": 58,
          "data": {
            "text/html": "<div>\n<style scoped>\n    .dataframe tbody tr th:only-of-type {\n        vertical-align: middle;\n    }\n\n    .dataframe tbody tr th {\n        vertical-align: top;\n    }\n\n    .dataframe thead th {\n        text-align: right;\n    }\n</style>\n<table border=\"1\" class=\"dataframe\">\n  <thead>\n    <tr style=\"text-align: right;\">\n      <th></th>\n      <th>o_orderkey</th>\n      <th>o_custkey</th>\n      <th>o_orderstatus</th>\n      <th>o_totalprice</th>\n      <th>o_orderdate</th>\n      <th>o_orderpriority</th>\n      <th>o_clerk</th>\n      <th>o_shippriority</th>\n      <th>o_comment</th>\n    </tr>\n  </thead>\n  <tbody>\n    <tr>\n      <th>0</th>\n      <td>1</td>\n      <td>781</td>\n      <td>O</td>\n      <td>172799.49</td>\n      <td>2018-01-02</td>\n      <td>5-LOW</td>\n      <td>Clerk#000000951</td>\n      <td>0</td>\n      <td>A0xCm5ARNL mxjChn2kC64xA4L6zBg2O5jhg M42izyPO ...</td>\n    </tr>\n    <tr>\n      <th>1</th>\n      <td>2</td>\n      <td>1234</td>\n      <td>O</td>\n      <td>41048.98</td>\n      <td>2018-12-01</td>\n      <td>1-URGENT</td>\n      <td>Clerk#000000880</td>\n      <td>0</td>\n      <td>5PRxL1nM7xhQNzP2hnjhy1zz ykhg4P2A MMg5Px3OCN 0...</td>\n    </tr>\n    <tr>\n      <th>2</th>\n      <td>3</td>\n      <td>445</td>\n      <td>F</td>\n      <td>250870.73</td>\n      <td>2015-10-14</td>\n      <td>5-LOW</td>\n      <td>Clerk#000000955</td>\n      <td>0</td>\n      <td>nm0kygQBnw7RS3AAA4k</td>\n    </tr>\n    <tr>\n      <th>3</th>\n      <td>4</td>\n      <td>557</td>\n      <td>O</td>\n      <td>6705.30</td>\n      <td>2017-10-11</td>\n      <td>5-LOW</td>\n      <td>Clerk#000000124</td>\n      <td>0</td>\n      <td>CP42CySQlz64n3mCyjm17 4B0CL L5772m4k2Ai4h1nPyS...</td>\n    </tr>\n    <tr>\n      <th>4</th>\n      <td>5</td>\n      <td>392</td>\n      <td>F</td>\n      <td>120227.38</td>\n      <td>2016-07-30</td>\n      <td>5-LOW</td>\n      <td>Clerk#000000925</td>\n      <td>0</td>\n      <td>3PNC7zMP534MSizgy34Bxj62l0C7n6PBk7</td>\n    </tr>\n  </tbody>\n</table>\n</div>",
            "text/plain": "   o_orderkey  o_custkey o_orderstatus  o_totalprice o_orderdate  \\\n0           1        781             O     172799.49  2018-01-02   \n1           2       1234             O      41048.98  2018-12-01   \n2           3        445             F     250870.73  2015-10-14   \n3           4        557             O       6705.30  2017-10-11   \n4           5        392             F     120227.38  2016-07-30   \n\n  o_orderpriority          o_clerk  o_shippriority  \\\n0           5-LOW  Clerk#000000951               0   \n1        1-URGENT  Clerk#000000880               0   \n2           5-LOW  Clerk#000000955               0   \n3           5-LOW  Clerk#000000124               0   \n4           5-LOW  Clerk#000000925               0   \n\n                                           o_comment  \n0  A0xCm5ARNL mxjChn2kC64xA4L6zBg2O5jhg M42izyPO ...  \n1  5PRxL1nM7xhQNzP2hnjhy1zz ykhg4P2A MMg5Px3OCN 0...  \n2                                nm0kygQBnw7RS3AAA4k  \n3  CP42CySQlz64n3mCyjm17 4B0CL L5772m4k2Ai4h1nPyS...  \n4                 3PNC7zMP534MSizgy34Bxj62l0C7n6PBk7  "
          },
          "metadata": {}
        }
      ],
      "execution_count": 58,
      "metadata": {}
    },
    {
      "cell_type": "markdown",
      "source": [
        "Write and execute an SQL query that retrieves all entries from the `lineitem` table.  Store the results in the `lineitem` variable. **(1 mark)**"
      ],
      "metadata": {}
    },
    {
      "cell_type": "code",
      "source": [
        "%%sql tpch@tpch lineitem <<\n",
        "select * from lineitem;"
      ],
      "outputs": [
        {
          "output_type": "stream",
          "name": "stdout",
          "text": [
            "Done.\n",
            "Returning data to local variable lineitem\n"
          ]
        }
      ],
      "execution_count": 60,
      "metadata": {}
    },
    {
      "cell_type": "markdown",
      "source": [
        "Create a dataframe using the `.DataFrame()` method on `lineitem` object. **(1 mark)**"
      ],
      "metadata": {}
    },
    {
      "cell_type": "code",
      "source": [
        "df_lineitem = lineitem.DataFrame()"
      ],
      "outputs": [],
      "execution_count": 61,
      "metadata": {}
    },
    {
      "cell_type": "markdown",
      "source": [
        "Create a scatter plot of quantity vs price from the dataframe object using the pandas `Dataframe.plot.scatter` function.  On the x-axis put `l_quantity` and on the y-axis put `l_extendedprice`.  **(1 mark)**"
      ],
      "metadata": {}
    },
    {
      "cell_type": "code",
      "source": [
        "df_lineitem.plot.scatter(x = 'l_quantity', y = 'l_extendedprice')"
      ],
      "outputs": [
        {
          "output_type": "execute_result",
          "execution_count": 62,
          "data": {
            "text/plain": "<AxesSubplot:xlabel='l_quantity', ylabel='l_extendedprice'>"
          },
          "metadata": {}
        },
        {
          "output_type": "display_data",
          "data": {
            "image/png": "[encoded data removed]",
            "text/plain": "<Figure size 432x288 with 1 Axes>"
          },
          "metadata": {
            "needs_background": "light"
          }
        }
      ],
      "execution_count": 62,
      "metadata": {}
    },
    {
      "cell_type": "markdown",
      "source": [
        "#### Question 4 (6 bonus marks)\n",
        "Write and execute an SQL query that retrieves for each nation name and stores it in the `nation` column, and the number of orders for the country and stores it in the `order_count` column.  Limit data to the year **2018**.  Store it in the variable `orders_by_country`.  To see the schema, login to the `tpch` at adminer at [`http://localhost:8080`](http://localhost:8080) using `tpch` as both the username and password. **(3 marks)**"
      ],
      "metadata": {}
    },
    {
      "cell_type": "code",
      "source": [
        "%%sql tpch@tpch orders_by_country <<\n",
        "SELECT n_name AS nation, count(o_orderdate) AS order_count\n",
        "  FROM orders JOIN customer ON customer.c_custkey = orders.o_custkey\n",
        "              JOIN nation ON nation.n_nationkey = customer.c_nationkey\n",
        " WHERE strftime('%Y', o_orderdate) = \"2018\"\n",
        " GROUP BY n_name;"
      ],
      "outputs": [
        {
          "output_type": "stream",
          "name": "stdout",
          "text": [
            "Done.\n",
            "Returning data to local variable orders_by_country\n"
          ]
        }
      ],
      "execution_count": 78,
      "metadata": {}
    },
    {
      "cell_type": "markdown",
      "source": [
        "Convert the `orders_by_country` result into a pandas DataFrame `orders_by_country_df`.  **(1 mark)**"
      ],
      "metadata": {}
    },
    {
      "cell_type": "code",
      "source": [
        "orders_by_country_df = orders_by_country.DataFrame()"
      ],
      "outputs": [],
      "execution_count": 79,
      "metadata": {}
    },
    {
      "cell_type": "markdown",
      "source": [
        "Create a bar graph in Pandas that visualizes the information. **(2 marks)**"
      ],
      "metadata": {}
    },
    {
      "cell_type": "code",
      "source": [
        "orders_by_country_df.plot.bar(x='nation', y='order_count')"
      ],
      "outputs": [
        {
          "output_type": "execute_result",
          "execution_count": 80,
          "data": {
            "text/plain": "<AxesSubplot:xlabel='nation'>"
          },
          "metadata": {}
        },
        {
          "output_type": "display_data",
          "data": {
            "image/png": "[encoded data removed]",
            "text/plain": "<Figure size 432x288 with 1 Axes>"
          },
          "metadata": {
            "needs_background": "light"
          }
        }
      ],
      "execution_count": 80,
      "metadata": {}
    }
  ],
  "metadata": {
    "kernelspec": {
      "display_name": "Python 3",
      "language": "python",
      "name": "python3"
    },
    "language_info": {
      "name": "python",
      "version": "3.8.3",
      "mimetype": "text/x-python",
      "codemirror_mode": {
        "name": "ipython",
        "version": 3
      },
      "pygments_lexer": "ipython3",
      "nbconvert_exporter": "python",
      "file_extension": ".py"
    },
    "nteract": {
      "version": "0.26.0"
    }
  },
  "nbformat": 4,
  "nbformat_minor": 4
}